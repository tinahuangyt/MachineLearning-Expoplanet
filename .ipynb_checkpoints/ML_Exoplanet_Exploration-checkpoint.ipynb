{
 "cells": [
  {
   "cell_type": "code",
   "execution_count": 49,
   "metadata": {},
   "outputs": [],
   "source": [
    "import pandas as pd"
   ]
  },
  {
   "cell_type": "markdown",
   "metadata": {},
   "source": [
    "## Data Pre-processing"
   ]
  },
  {
   "cell_type": "code",
   "execution_count": 50,
   "metadata": {},
   "outputs": [
    {
     "data": {
      "text/html": [
       "<div>\n",
       "<style scoped>\n",
       "    .dataframe tbody tr th:only-of-type {\n",
       "        vertical-align: middle;\n",
       "    }\n",
       "\n",
       "    .dataframe tbody tr th {\n",
       "        vertical-align: top;\n",
       "    }\n",
       "\n",
       "    .dataframe thead th {\n",
       "        text-align: right;\n",
       "    }\n",
       "</style>\n",
       "<table border=\"1\" class=\"dataframe\">\n",
       "  <thead>\n",
       "    <tr style=\"text-align: right;\">\n",
       "      <th></th>\n",
       "      <th>koi_disposition</th>\n",
       "      <th>koi_fpflag_nt</th>\n",
       "      <th>koi_fpflag_ss</th>\n",
       "      <th>koi_fpflag_co</th>\n",
       "      <th>koi_fpflag_ec</th>\n",
       "      <th>koi_period</th>\n",
       "      <th>koi_period_err1</th>\n",
       "      <th>koi_period_err2</th>\n",
       "      <th>koi_time0bk</th>\n",
       "      <th>koi_time0bk_err1</th>\n",
       "      <th>...</th>\n",
       "      <th>koi_steff_err2</th>\n",
       "      <th>koi_slogg</th>\n",
       "      <th>koi_slogg_err1</th>\n",
       "      <th>koi_slogg_err2</th>\n",
       "      <th>koi_srad</th>\n",
       "      <th>koi_srad_err1</th>\n",
       "      <th>koi_srad_err2</th>\n",
       "      <th>ra</th>\n",
       "      <th>dec</th>\n",
       "      <th>koi_kepmag</th>\n",
       "    </tr>\n",
       "  </thead>\n",
       "  <tbody>\n",
       "    <tr>\n",
       "      <th>0</th>\n",
       "      <td>CONFIRMED</td>\n",
       "      <td>0</td>\n",
       "      <td>0</td>\n",
       "      <td>0</td>\n",
       "      <td>0</td>\n",
       "      <td>9.488036</td>\n",
       "      <td>2.775000e-05</td>\n",
       "      <td>-2.775000e-05</td>\n",
       "      <td>170.538750</td>\n",
       "      <td>0.002160</td>\n",
       "      <td>...</td>\n",
       "      <td>-81.0</td>\n",
       "      <td>4.467</td>\n",
       "      <td>0.064</td>\n",
       "      <td>-0.096</td>\n",
       "      <td>0.927</td>\n",
       "      <td>0.105</td>\n",
       "      <td>-0.061</td>\n",
       "      <td>291.93423</td>\n",
       "      <td>48.141651</td>\n",
       "      <td>15.347</td>\n",
       "    </tr>\n",
       "    <tr>\n",
       "      <th>1</th>\n",
       "      <td>CONFIRMED</td>\n",
       "      <td>0</td>\n",
       "      <td>0</td>\n",
       "      <td>0</td>\n",
       "      <td>0</td>\n",
       "      <td>54.418383</td>\n",
       "      <td>2.479000e-04</td>\n",
       "      <td>-2.479000e-04</td>\n",
       "      <td>162.513840</td>\n",
       "      <td>0.003520</td>\n",
       "      <td>...</td>\n",
       "      <td>-81.0</td>\n",
       "      <td>4.467</td>\n",
       "      <td>0.064</td>\n",
       "      <td>-0.096</td>\n",
       "      <td>0.927</td>\n",
       "      <td>0.105</td>\n",
       "      <td>-0.061</td>\n",
       "      <td>291.93423</td>\n",
       "      <td>48.141651</td>\n",
       "      <td>15.347</td>\n",
       "    </tr>\n",
       "    <tr>\n",
       "      <th>2</th>\n",
       "      <td>FALSE POSITIVE</td>\n",
       "      <td>0</td>\n",
       "      <td>1</td>\n",
       "      <td>0</td>\n",
       "      <td>0</td>\n",
       "      <td>19.899140</td>\n",
       "      <td>1.494000e-05</td>\n",
       "      <td>-1.494000e-05</td>\n",
       "      <td>175.850252</td>\n",
       "      <td>0.000581</td>\n",
       "      <td>...</td>\n",
       "      <td>-176.0</td>\n",
       "      <td>4.544</td>\n",
       "      <td>0.044</td>\n",
       "      <td>-0.176</td>\n",
       "      <td>0.868</td>\n",
       "      <td>0.233</td>\n",
       "      <td>-0.078</td>\n",
       "      <td>297.00482</td>\n",
       "      <td>48.134129</td>\n",
       "      <td>15.436</td>\n",
       "    </tr>\n",
       "    <tr>\n",
       "      <th>3</th>\n",
       "      <td>FALSE POSITIVE</td>\n",
       "      <td>0</td>\n",
       "      <td>1</td>\n",
       "      <td>0</td>\n",
       "      <td>0</td>\n",
       "      <td>1.736952</td>\n",
       "      <td>2.630000e-07</td>\n",
       "      <td>-2.630000e-07</td>\n",
       "      <td>170.307565</td>\n",
       "      <td>0.000115</td>\n",
       "      <td>...</td>\n",
       "      <td>-174.0</td>\n",
       "      <td>4.564</td>\n",
       "      <td>0.053</td>\n",
       "      <td>-0.168</td>\n",
       "      <td>0.791</td>\n",
       "      <td>0.201</td>\n",
       "      <td>-0.067</td>\n",
       "      <td>285.53461</td>\n",
       "      <td>48.285210</td>\n",
       "      <td>15.597</td>\n",
       "    </tr>\n",
       "    <tr>\n",
       "      <th>4</th>\n",
       "      <td>CONFIRMED</td>\n",
       "      <td>0</td>\n",
       "      <td>0</td>\n",
       "      <td>0</td>\n",
       "      <td>0</td>\n",
       "      <td>2.525592</td>\n",
       "      <td>3.761000e-06</td>\n",
       "      <td>-3.761000e-06</td>\n",
       "      <td>171.595550</td>\n",
       "      <td>0.001130</td>\n",
       "      <td>...</td>\n",
       "      <td>-211.0</td>\n",
       "      <td>4.438</td>\n",
       "      <td>0.070</td>\n",
       "      <td>-0.210</td>\n",
       "      <td>1.046</td>\n",
       "      <td>0.334</td>\n",
       "      <td>-0.133</td>\n",
       "      <td>288.75488</td>\n",
       "      <td>48.226200</td>\n",
       "      <td>15.509</td>\n",
       "    </tr>\n",
       "  </tbody>\n",
       "</table>\n",
       "<p>5 rows × 41 columns</p>\n",
       "</div>"
      ],
      "text/plain": [
       "  koi_disposition  koi_fpflag_nt  koi_fpflag_ss  koi_fpflag_co  koi_fpflag_ec  \\\n",
       "0       CONFIRMED              0              0              0              0   \n",
       "1       CONFIRMED              0              0              0              0   \n",
       "2  FALSE POSITIVE              0              1              0              0   \n",
       "3  FALSE POSITIVE              0              1              0              0   \n",
       "4       CONFIRMED              0              0              0              0   \n",
       "\n",
       "   koi_period  koi_period_err1  koi_period_err2  koi_time0bk  \\\n",
       "0    9.488036     2.775000e-05    -2.775000e-05   170.538750   \n",
       "1   54.418383     2.479000e-04    -2.479000e-04   162.513840   \n",
       "2   19.899140     1.494000e-05    -1.494000e-05   175.850252   \n",
       "3    1.736952     2.630000e-07    -2.630000e-07   170.307565   \n",
       "4    2.525592     3.761000e-06    -3.761000e-06   171.595550   \n",
       "\n",
       "   koi_time0bk_err1     ...      koi_steff_err2  koi_slogg  koi_slogg_err1  \\\n",
       "0          0.002160     ...               -81.0      4.467           0.064   \n",
       "1          0.003520     ...               -81.0      4.467           0.064   \n",
       "2          0.000581     ...              -176.0      4.544           0.044   \n",
       "3          0.000115     ...              -174.0      4.564           0.053   \n",
       "4          0.001130     ...              -211.0      4.438           0.070   \n",
       "\n",
       "   koi_slogg_err2  koi_srad  koi_srad_err1  koi_srad_err2         ra  \\\n",
       "0          -0.096     0.927          0.105         -0.061  291.93423   \n",
       "1          -0.096     0.927          0.105         -0.061  291.93423   \n",
       "2          -0.176     0.868          0.233         -0.078  297.00482   \n",
       "3          -0.168     0.791          0.201         -0.067  285.53461   \n",
       "4          -0.210     1.046          0.334         -0.133  288.75488   \n",
       "\n",
       "         dec  koi_kepmag  \n",
       "0  48.141651      15.347  \n",
       "1  48.141651      15.347  \n",
       "2  48.134129      15.436  \n",
       "3  48.285210      15.597  \n",
       "4  48.226200      15.509  \n",
       "\n",
       "[5 rows x 41 columns]"
      ]
     },
     "execution_count": 50,
     "metadata": {},
     "output_type": "execute_result"
    }
   ],
   "source": [
    "df = pd.read_csv(\"cumulative.csv\")\n",
    "df = df.drop(columns=[\"rowid\", \"kepid\", \"kepoi_name\", \"kepler_name\", \"koi_pdisposition\", \"koi_score\", \"koi_tce_delivname\"])\n",
    "\n",
    "# Drop the null columns where all values are null\n",
    "df = df.dropna(axis='columns', how='all')\n",
    "\n",
    "# Drop the null rows\n",
    "df = df.dropna()\n",
    "df.head()"
   ]
  },
  {
   "cell_type": "code",
   "execution_count": 51,
   "metadata": {},
   "outputs": [
    {
     "name": "stdout",
     "output_type": "stream",
     "text": [
      "(8744, 40) (8744,)\n"
     ]
    }
   ],
   "source": [
    "X=df.drop(\"koi_disposition\", axis=1)\n",
    "y=df[\"koi_disposition\"]\n",
    "print(X.shape, y.shape)"
   ]
  },
  {
   "cell_type": "code",
   "execution_count": 52,
   "metadata": {},
   "outputs": [],
   "source": [
    "#Create a train test split\n",
    "#Use koi_disposition for the y values\n",
    "\n",
    "from sklearn.model_selection import train_test_split\n",
    "X_train, X_test, y_train, y_test = train_test_split(X, y, random_state=1)"
   ]
  },
  {
   "cell_type": "code",
   "execution_count": 53,
   "metadata": {},
   "outputs": [],
   "source": [
    "# Scale data with minmaxscaler\n",
    "\n",
    "from sklearn.preprocessing import MinMaxScaler\n",
    "X_minmax = MinMaxScaler().fit(X_train)\n",
    "\n",
    "X_train_scaled = X_minmax.transform(X_train)\n",
    "X_test_scaled = X_minmax.transform(X_test)"
   ]
  },
  {
   "cell_type": "markdown",
   "metadata": {},
   "source": [
    "## Train the Support Vector Machine"
   ]
  },
  {
   "cell_type": "code",
   "execution_count": 54,
   "metadata": {},
   "outputs": [
    {
     "data": {
      "text/plain": [
       "SVC(C=1.0, cache_size=200, class_weight=None, coef0=0.0,\n",
       "    decision_function_shape='ovr', degree=3, gamma='auto_deprecated',\n",
       "    kernel='linear', max_iter=-1, probability=False, random_state=None,\n",
       "    shrinking=True, tol=0.001, verbose=False)"
      ]
     },
     "execution_count": 54,
     "metadata": {},
     "output_type": "execute_result"
    }
   ],
   "source": [
    "from sklearn.svm import SVC\n",
    "model2 = SVC(kernel='linear')\n",
    "model2.fit(X_train_scaled, y_train)"
   ]
  },
  {
   "cell_type": "code",
   "execution_count": 55,
   "metadata": {},
   "outputs": [
    {
     "name": "stdout",
     "output_type": "stream",
     "text": [
      "Training Data Score: 0.8584934431229033\n",
      "Testing Data Score: 0.8522415370539799\n"
     ]
    }
   ],
   "source": [
    "print(f\"Training Data Score: {model2.score(X_train_scaled, y_train)}\")\n",
    "print(f\"Testing Data Score: {model2.score(X_test_scaled, y_test)}\")"
   ]
  },
  {
   "cell_type": "markdown",
   "metadata": {},
   "source": [
    "## Hyperparameter Tuning for Support Vector Machines\n",
    "\n",
    "Use `GridSearchCV` to tune the `C` and `gamma` parameters"
   ]
  },
  {
   "cell_type": "code",
   "execution_count": 56,
   "metadata": {},
   "outputs": [
    {
     "name": "stderr",
     "output_type": "stream",
     "text": [
      "/Users/tinahuang/.local/lib/python3.7/site-packages/sklearn/model_selection/_split.py:1978: FutureWarning: The default value of cv will change from 3 to 5 in version 0.22. Specify it explicitly to silence this warning.\n",
      "  warnings.warn(CV_WARNING, FutureWarning)\n",
      "[Parallel(n_jobs=1)]: Using backend SequentialBackend with 1 concurrent workers.\n"
     ]
    },
    {
     "name": "stdout",
     "output_type": "stream",
     "text": [
      "Fitting 3 folds for each of 30 candidates, totalling 90 fits\n",
      "[CV] C=1, kernel=linear ..............................................\n",
      "[CV] .................. C=1, kernel=linear, score=0.839, total=   0.5s\n",
      "[CV] C=1, kernel=linear ..............................................\n"
     ]
    },
    {
     "name": "stderr",
     "output_type": "stream",
     "text": [
      "[Parallel(n_jobs=1)]: Done   1 out of   1 | elapsed:    0.5s remaining:    0.0s\n"
     ]
    },
    {
     "name": "stdout",
     "output_type": "stream",
     "text": [
      "[CV] .................. C=1, kernel=linear, score=0.858, total=   0.5s\n",
      "[CV] C=1, kernel=linear ..............................................\n"
     ]
    },
    {
     "name": "stderr",
     "output_type": "stream",
     "text": [
      "[Parallel(n_jobs=1)]: Done   2 out of   2 | elapsed:    1.0s remaining:    0.0s\n"
     ]
    },
    {
     "name": "stdout",
     "output_type": "stream",
     "text": [
      "[CV] .................. C=1, kernel=linear, score=0.857, total=   0.5s\n",
      "[CV] C=5, kernel=linear ..............................................\n",
      "[CV] .................. C=5, kernel=linear, score=0.861, total=   0.5s\n",
      "[CV] C=5, kernel=linear ..............................................\n",
      "[CV] .................. C=5, kernel=linear, score=0.874, total=   0.5s\n",
      "[CV] C=5, kernel=linear ..............................................\n",
      "[CV] .................. C=5, kernel=linear, score=0.871, total=   0.5s\n",
      "[CV] C=10, kernel=linear .............................................\n",
      "[CV] ................. C=10, kernel=linear, score=0.867, total=   0.6s\n",
      "[CV] C=10, kernel=linear .............................................\n",
      "[CV] ................. C=10, kernel=linear, score=0.880, total=   0.5s\n",
      "[CV] C=10, kernel=linear .............................................\n",
      "[CV] ................. C=10, kernel=linear, score=0.872, total=   0.6s\n",
      "[CV] C=50, kernel=linear .............................................\n",
      "[CV] ................. C=50, kernel=linear, score=0.873, total=   0.7s\n",
      "[CV] C=50, kernel=linear .............................................\n",
      "[CV] ................. C=50, kernel=linear, score=0.892, total=   0.6s\n",
      "[CV] C=50, kernel=linear .............................................\n",
      "[CV] ................. C=50, kernel=linear, score=0.885, total=   0.7s\n",
      "[CV] C=100, kernel=linear ............................................\n",
      "[CV] ................ C=100, kernel=linear, score=0.874, total=   1.3s\n",
      "[CV] C=100, kernel=linear ............................................\n",
      "[CV] ................ C=100, kernel=linear, score=0.893, total=   1.1s\n",
      "[CV] C=100, kernel=linear ............................................\n",
      "[CV] ................ C=100, kernel=linear, score=0.889, total=   0.9s\n",
      "[CV] C=1000, kernel=linear ...........................................\n",
      "[CV] ............... C=1000, kernel=linear, score=0.877, total=   4.7s\n",
      "[CV] C=1000, kernel=linear ...........................................\n",
      "[CV] ............... C=1000, kernel=linear, score=0.895, total=   4.5s\n",
      "[CV] C=1000, kernel=linear ...........................................\n",
      "[CV] ............... C=1000, kernel=linear, score=0.892, total=   3.6s\n",
      "[CV] C=1, gamma=0.0001, kernel=rbf ...................................\n",
      "[CV] ....... C=1, gamma=0.0001, kernel=rbf, score=0.496, total=   2.1s\n",
      "[CV] C=1, gamma=0.0001, kernel=rbf ...................................\n",
      "[CV] ....... C=1, gamma=0.0001, kernel=rbf, score=0.496, total=   1.9s\n",
      "[CV] C=1, gamma=0.0001, kernel=rbf ...................................\n",
      "[CV] ....... C=1, gamma=0.0001, kernel=rbf, score=0.496, total=   2.0s\n",
      "[CV] C=1, gamma=0.0005, kernel=rbf ...................................\n",
      "[CV] ....... C=1, gamma=0.0005, kernel=rbf, score=0.496, total=   1.9s\n",
      "[CV] C=1, gamma=0.0005, kernel=rbf ...................................\n",
      "[CV] ....... C=1, gamma=0.0005, kernel=rbf, score=0.496, total=   1.9s\n",
      "[CV] C=1, gamma=0.0005, kernel=rbf ...................................\n",
      "[CV] ....... C=1, gamma=0.0005, kernel=rbf, score=0.496, total=   2.0s\n",
      "[CV] C=1, gamma=0.001, kernel=rbf ....................................\n",
      "[CV] ........ C=1, gamma=0.001, kernel=rbf, score=0.496, total=   1.8s\n",
      "[CV] C=1, gamma=0.001, kernel=rbf ....................................\n",
      "[CV] ........ C=1, gamma=0.001, kernel=rbf, score=0.496, total=   1.9s\n",
      "[CV] C=1, gamma=0.001, kernel=rbf ....................................\n",
      "[CV] ........ C=1, gamma=0.001, kernel=rbf, score=0.496, total=   1.9s\n",
      "[CV] C=1, gamma=0.005, kernel=rbf ....................................\n",
      "[CV] ........ C=1, gamma=0.005, kernel=rbf, score=0.737, total=   1.4s\n",
      "[CV] C=1, gamma=0.005, kernel=rbf ....................................\n",
      "[CV] ........ C=1, gamma=0.005, kernel=rbf, score=0.744, total=   1.7s\n",
      "[CV] C=1, gamma=0.005, kernel=rbf ....................................\n",
      "[CV] ........ C=1, gamma=0.005, kernel=rbf, score=0.740, total=   1.5s\n",
      "[CV] C=5, gamma=0.0001, kernel=rbf ...................................\n",
      "[CV] ....... C=5, gamma=0.0001, kernel=rbf, score=0.496, total=   2.2s\n",
      "[CV] C=5, gamma=0.0001, kernel=rbf ...................................\n",
      "[CV] ....... C=5, gamma=0.0001, kernel=rbf, score=0.496, total=   2.2s\n",
      "[CV] C=5, gamma=0.0001, kernel=rbf ...................................\n",
      "[CV] ....... C=5, gamma=0.0001, kernel=rbf, score=0.496, total=   1.8s\n",
      "[CV] C=5, gamma=0.0005, kernel=rbf ...................................\n",
      "[CV] ....... C=5, gamma=0.0005, kernel=rbf, score=0.737, total=   1.8s\n",
      "[CV] C=5, gamma=0.0005, kernel=rbf ...................................\n",
      "[CV] ....... C=5, gamma=0.0005, kernel=rbf, score=0.744, total=   1.7s\n",
      "[CV] C=5, gamma=0.0005, kernel=rbf ...................................\n",
      "[CV] ....... C=5, gamma=0.0005, kernel=rbf, score=0.740, total=   1.7s\n",
      "[CV] C=5, gamma=0.001, kernel=rbf ....................................\n",
      "[CV] ........ C=5, gamma=0.001, kernel=rbf, score=0.737, total=   1.3s\n",
      "[CV] C=5, gamma=0.001, kernel=rbf ....................................\n",
      "[CV] ........ C=5, gamma=0.001, kernel=rbf, score=0.744, total=   1.4s\n",
      "[CV] C=5, gamma=0.001, kernel=rbf ....................................\n",
      "[CV] ........ C=5, gamma=0.001, kernel=rbf, score=0.740, total=   1.3s\n",
      "[CV] C=5, gamma=0.005, kernel=rbf ....................................\n",
      "[CV] ........ C=5, gamma=0.005, kernel=rbf, score=0.801, total=   0.9s\n",
      "[CV] C=5, gamma=0.005, kernel=rbf ....................................\n",
      "[CV] ........ C=5, gamma=0.005, kernel=rbf, score=0.798, total=   1.0s\n",
      "[CV] C=5, gamma=0.005, kernel=rbf ....................................\n",
      "[CV] ........ C=5, gamma=0.005, kernel=rbf, score=0.798, total=   1.0s\n",
      "[CV] C=10, gamma=0.0001, kernel=rbf ..................................\n",
      "[CV] ...... C=10, gamma=0.0001, kernel=rbf, score=0.496, total=   1.9s\n",
      "[CV] C=10, gamma=0.0001, kernel=rbf ..................................\n",
      "[CV] ...... C=10, gamma=0.0001, kernel=rbf, score=0.496, total=   1.8s\n",
      "[CV] C=10, gamma=0.0001, kernel=rbf ..................................\n",
      "[CV] ...... C=10, gamma=0.0001, kernel=rbf, score=0.496, total=   1.9s\n",
      "[CV] C=10, gamma=0.0005, kernel=rbf ..................................\n",
      "[CV] ...... C=10, gamma=0.0005, kernel=rbf, score=0.737, total=   1.4s\n",
      "[CV] C=10, gamma=0.0005, kernel=rbf ..................................\n",
      "[CV] ...... C=10, gamma=0.0005, kernel=rbf, score=0.744, total=   1.4s\n",
      "[CV] C=10, gamma=0.0005, kernel=rbf ..................................\n",
      "[CV] ...... C=10, gamma=0.0005, kernel=rbf, score=0.740, total=   1.5s\n",
      "[CV] C=10, gamma=0.001, kernel=rbf ...................................\n",
      "[CV] ....... C=10, gamma=0.001, kernel=rbf, score=0.761, total=   1.3s\n",
      "[CV] C=10, gamma=0.001, kernel=rbf ...................................\n",
      "[CV] ....... C=10, gamma=0.001, kernel=rbf, score=0.761, total=   1.2s\n",
      "[CV] C=10, gamma=0.001, kernel=rbf ...................................\n",
      "[CV] ....... C=10, gamma=0.001, kernel=rbf, score=0.747, total=   1.1s\n",
      "[CV] C=10, gamma=0.005, kernel=rbf ...................................\n",
      "[CV] ....... C=10, gamma=0.005, kernel=rbf, score=0.810, total=   0.8s\n",
      "[CV] C=10, gamma=0.005, kernel=rbf ...................................\n",
      "[CV] ....... C=10, gamma=0.005, kernel=rbf, score=0.823, total=   0.9s\n",
      "[CV] C=10, gamma=0.005, kernel=rbf ...................................\n",
      "[CV] ....... C=10, gamma=0.005, kernel=rbf, score=0.814, total=   0.9s\n",
      "[CV] C=50, gamma=0.0001, kernel=rbf ..................................\n",
      "[CV] ...... C=50, gamma=0.0001, kernel=rbf, score=0.737, total=   1.4s\n",
      "[CV] C=50, gamma=0.0001, kernel=rbf ..................................\n",
      "[CV] ...... C=50, gamma=0.0001, kernel=rbf, score=0.744, total=   1.6s\n",
      "[CV] C=50, gamma=0.0001, kernel=rbf ..................................\n",
      "[CV] ...... C=50, gamma=0.0001, kernel=rbf, score=0.740, total=   1.5s\n",
      "[CV] C=50, gamma=0.0005, kernel=rbf ..................................\n",
      "[CV] ...... C=50, gamma=0.0005, kernel=rbf, score=0.801, total=   0.9s\n",
      "[CV] C=50, gamma=0.0005, kernel=rbf ..................................\n",
      "[CV] ...... C=50, gamma=0.0005, kernel=rbf, score=0.797, total=   0.9s\n",
      "[CV] C=50, gamma=0.0005, kernel=rbf ..................................\n",
      "[CV] ...... C=50, gamma=0.0005, kernel=rbf, score=0.798, total=   0.9s\n",
      "[CV] C=50, gamma=0.001, kernel=rbf ...................................\n"
     ]
    },
    {
     "name": "stdout",
     "output_type": "stream",
     "text": [
      "[CV] ....... C=50, gamma=0.001, kernel=rbf, score=0.810, total=   0.8s\n",
      "[CV] C=50, gamma=0.001, kernel=rbf ...................................\n",
      "[CV] ....... C=50, gamma=0.001, kernel=rbf, score=0.823, total=   1.0s\n",
      "[CV] C=50, gamma=0.001, kernel=rbf ...................................\n",
      "[CV] ....... C=50, gamma=0.001, kernel=rbf, score=0.814, total=   0.8s\n",
      "[CV] C=50, gamma=0.005, kernel=rbf ...................................\n",
      "[CV] ....... C=50, gamma=0.005, kernel=rbf, score=0.829, total=   0.8s\n",
      "[CV] C=50, gamma=0.005, kernel=rbf ...................................\n",
      "[CV] ....... C=50, gamma=0.005, kernel=rbf, score=0.849, total=   0.9s\n",
      "[CV] C=50, gamma=0.005, kernel=rbf ...................................\n",
      "[CV] ....... C=50, gamma=0.005, kernel=rbf, score=0.846, total=   0.9s\n",
      "[CV] C=100, gamma=0.0001, kernel=rbf .................................\n",
      "[CV] ..... C=100, gamma=0.0001, kernel=rbf, score=0.761, total=   1.1s\n",
      "[CV] C=100, gamma=0.0001, kernel=rbf .................................\n",
      "[CV] ..... C=100, gamma=0.0001, kernel=rbf, score=0.761, total=   1.2s\n",
      "[CV] C=100, gamma=0.0001, kernel=rbf .................................\n",
      "[CV] ..... C=100, gamma=0.0001, kernel=rbf, score=0.747, total=   1.1s\n",
      "[CV] C=100, gamma=0.0005, kernel=rbf .................................\n",
      "[CV] ..... C=100, gamma=0.0005, kernel=rbf, score=0.810, total=   0.7s\n",
      "[CV] C=100, gamma=0.0005, kernel=rbf .................................\n",
      "[CV] ..... C=100, gamma=0.0005, kernel=rbf, score=0.823, total=   1.1s\n",
      "[CV] C=100, gamma=0.0005, kernel=rbf .................................\n",
      "[CV] ..... C=100, gamma=0.0005, kernel=rbf, score=0.814, total=   0.9s\n",
      "[CV] C=100, gamma=0.001, kernel=rbf ..................................\n",
      "[CV] ...... C=100, gamma=0.001, kernel=rbf, score=0.818, total=   0.8s\n",
      "[CV] C=100, gamma=0.001, kernel=rbf ..................................\n",
      "[CV] ...... C=100, gamma=0.001, kernel=rbf, score=0.840, total=   0.8s\n",
      "[CV] C=100, gamma=0.001, kernel=rbf ..................................\n",
      "[CV] ...... C=100, gamma=0.001, kernel=rbf, score=0.832, total=   0.8s\n",
      "[CV] C=100, gamma=0.005, kernel=rbf ..................................\n",
      "[CV] ...... C=100, gamma=0.005, kernel=rbf, score=0.839, total=   0.7s\n",
      "[CV] C=100, gamma=0.005, kernel=rbf ..................................\n",
      "[CV] ...... C=100, gamma=0.005, kernel=rbf, score=0.858, total=   0.6s\n",
      "[CV] C=100, gamma=0.005, kernel=rbf ..................................\n",
      "[CV] ...... C=100, gamma=0.005, kernel=rbf, score=0.856, total=   0.6s\n",
      "[CV] C=1000, gamma=0.0001, kernel=rbf ................................\n",
      "[CV] .... C=1000, gamma=0.0001, kernel=rbf, score=0.818, total=   0.6s\n",
      "[CV] C=1000, gamma=0.0001, kernel=rbf ................................\n",
      "[CV] .... C=1000, gamma=0.0001, kernel=rbf, score=0.841, total=   0.6s\n",
      "[CV] C=1000, gamma=0.0001, kernel=rbf ................................\n",
      "[CV] .... C=1000, gamma=0.0001, kernel=rbf, score=0.832, total=   0.6s\n",
      "[CV] C=1000, gamma=0.0005, kernel=rbf ................................\n",
      "[CV] .... C=1000, gamma=0.0005, kernel=rbf, score=0.839, total=   0.7s\n",
      "[CV] C=1000, gamma=0.0005, kernel=rbf ................................\n",
      "[CV] .... C=1000, gamma=0.0005, kernel=rbf, score=0.857, total=   0.7s\n",
      "[CV] C=1000, gamma=0.0005, kernel=rbf ................................\n",
      "[CV] .... C=1000, gamma=0.0005, kernel=rbf, score=0.857, total=   0.6s\n",
      "[CV] C=1000, gamma=0.001, kernel=rbf .................................\n",
      "[CV] ..... C=1000, gamma=0.001, kernel=rbf, score=0.849, total=   0.7s\n",
      "[CV] C=1000, gamma=0.001, kernel=rbf .................................\n",
      "[CV] ..... C=1000, gamma=0.001, kernel=rbf, score=0.866, total=   0.7s\n",
      "[CV] C=1000, gamma=0.001, kernel=rbf .................................\n",
      "[CV] ..... C=1000, gamma=0.001, kernel=rbf, score=0.863, total=   0.7s\n",
      "[CV] C=1000, gamma=0.005, kernel=rbf .................................\n",
      "[CV] ..... C=1000, gamma=0.005, kernel=rbf, score=0.868, total=   0.7s\n",
      "[CV] C=1000, gamma=0.005, kernel=rbf .................................\n",
      "[CV] ..... C=1000, gamma=0.005, kernel=rbf, score=0.881, total=   0.6s\n",
      "[CV] C=1000, gamma=0.005, kernel=rbf .................................\n",
      "[CV] ..... C=1000, gamma=0.005, kernel=rbf, score=0.873, total=   0.6s\n"
     ]
    },
    {
     "name": "stderr",
     "output_type": "stream",
     "text": [
      "[Parallel(n_jobs=1)]: Done  90 out of  90 | elapsed:  1.8min finished\n"
     ]
    },
    {
     "data": {
      "text/plain": [
       "GridSearchCV(cv='warn', error_score='raise-deprecating',\n",
       "             estimator=SVC(C=1.0, cache_size=200, class_weight=None, coef0=0.0,\n",
       "                           decision_function_shape='ovr', degree=3,\n",
       "                           gamma='auto_deprecated', kernel='rbf', max_iter=-1,\n",
       "                           probability=False, random_state=None, shrinking=True,\n",
       "                           tol=0.001, verbose=False),\n",
       "             iid='warn', n_jobs=None,\n",
       "             param_grid=[{'C': [1, 5, 10, 50, 100, 1000], 'kernel': ['linear']},\n",
       "                         {'C': [1, 5, 10, 50, 100, 1000],\n",
       "                          'gamma': [0.0001, 0.0005, 0.001, 0.005],\n",
       "                          'kernel': ['rbf']}],\n",
       "             pre_dispatch='2*n_jobs', refit=True, return_train_score=False,\n",
       "             scoring=None, verbose=3)"
      ]
     },
     "execution_count": 56,
     "metadata": {},
     "output_type": "execute_result"
    }
   ],
   "source": [
    "# Create the GridSearchCV model\n",
    "from sklearn.model_selection import GridSearchCV\n",
    "from sklearn import svm\n",
    "\n",
    "param_grid = [\n",
    "  {'C': [1, 5, 10, 50, 100, 1000], 'kernel': ['linear']},\n",
    "  {'C': [1, 5, 10, 50, 100, 1000], 'gamma': [0.0001, 0.0005, 0.001, 0.005], 'kernel': ['rbf']},\n",
    "]\n",
    "\n",
    "\n",
    "grid = GridSearchCV(estimator=svm.SVC(),param_grid=param_grid, verbose=3)\n",
    "grid.fit(X_train_scaled, y_train)\n"
   ]
  },
  {
   "cell_type": "code",
   "execution_count": 57,
   "metadata": {},
   "outputs": [
    {
     "name": "stdout",
     "output_type": "stream",
     "text": [
      "{'C': 1000, 'kernel': 'linear'}\n",
      "0.8880756328148826\n"
     ]
    }
   ],
   "source": [
    "print(grid.best_params_)\n",
    "print(grid.best_score_)"
   ]
  },
  {
   "cell_type": "code",
   "execution_count": 58,
   "metadata": {},
   "outputs": [
    {
     "data": {
      "text/plain": [
       "0.889295516925892"
      ]
     },
     "execution_count": 58,
     "metadata": {},
     "output_type": "execute_result"
    }
   ],
   "source": [
    "predictions = grid.predict(X_test_scaled)\n",
    "grid.score(X_test_scaled, y_test)"
   ]
  },
  {
   "cell_type": "code",
   "execution_count": 59,
   "metadata": {},
   "outputs": [
    {
     "name": "stdout",
     "output_type": "stream",
     "text": [
      "                precision    recall  f1-score   support\n",
      "\n",
      "     CANDIDATE       0.85      0.69      0.77       533\n",
      "     CONFIRMED       0.75      0.86      0.80       550\n",
      "FALSE POSITIVE       0.98      1.00      0.99      1103\n",
      "\n",
      "      accuracy                           0.89      2186\n",
      "     macro avg       0.86      0.85      0.85      2186\n",
      "  weighted avg       0.89      0.89      0.89      2186\n",
      "\n"
     ]
    }
   ],
   "source": [
    "from sklearn.metrics import classification_report\n",
    "print(classification_report(y_test, predictions))"
   ]
  },
  {
   "cell_type": "code",
   "execution_count": 60,
   "metadata": {},
   "outputs": [
    {
     "name": "stdout",
     "output_type": "stream",
     "text": [
      "SVC(C=1000, cache_size=200, class_weight=None, coef0=0.0,\n",
      "    decision_function_shape='ovr', degree=3, gamma='auto_deprecated',\n",
      "    kernel='linear', max_iter=-1, probability=False, random_state=None,\n",
      "    shrinking=True, tol=0.001, verbose=False)\n"
     ]
    }
   ],
   "source": [
    "print(grid.best_estimator_)"
   ]
  },
  {
   "cell_type": "markdown",
   "metadata": {},
   "source": [
    "## K Nearest Neighbors"
   ]
  },
  {
   "cell_type": "code",
   "execution_count": 61,
   "metadata": {},
   "outputs": [
    {
     "name": "stdout",
     "output_type": "stream",
     "text": [
      "k: 1, Train/Test Score: 1.000/0.801\n",
      "k: 3, Train/Test Score: 0.901/0.817\n",
      "k: 5, Train/Test Score: 0.874/0.820\n",
      "k: 7, Train/Test Score: 0.866/0.825\n",
      "k: 9, Train/Test Score: 0.858/0.828\n",
      "k: 11, Train/Test Score: 0.851/0.829\n",
      "k: 13, Train/Test Score: 0.846/0.823\n",
      "k: 15, Train/Test Score: 0.848/0.823\n",
      "k: 17, Train/Test Score: 0.845/0.824\n",
      "k: 19, Train/Test Score: 0.842/0.825\n"
     ]
    }
   ],
   "source": [
    "import matplotlib.pyplot as plt\n",
    "from sklearn.neighbors import KNeighborsClassifier\n",
    "\n",
    "train_scores = []\n",
    "test_scores = []\n",
    "for k in range(1, 20, 2):\n",
    "    knn = KNeighborsClassifier(n_neighbors=k)\n",
    "    knn.fit(X_train_scaled, y_train)\n",
    "    train_score = knn.score(X_train_scaled, y_train)\n",
    "    test_score = knn.score(X_test_scaled, y_test)\n",
    "    train_scores.append(train_score)\n",
    "    test_scores.append(test_score)\n",
    "    print(f\"k: {k}, Train/Test Score: {train_score:.3f}/{test_score:.3f}\")"
   ]
  },
  {
   "cell_type": "code",
   "execution_count": 62,
   "metadata": {},
   "outputs": [
    {
     "data": {
      "image/png": "[encoded data removed]",
      "text/plain": [
       "<Figure size 432x288 with 1 Axes>"
      ]
     },
     "metadata": {
      "needs_background": "light"
     },
     "output_type": "display_data"
    }
   ],
   "source": [
    "plt.plot(range(1, 20, 2), train_scores, marker='o')\n",
    "plt.plot(range(1, 20, 2), test_scores, marker=\"x\")\n",
    "plt.xlabel(\"k neighbors\")\n",
    "plt.ylabel(\"Testing accuracy Score\")\n",
    "plt.show()"
   ]
  },
  {
   "cell_type": "code",
   "execution_count": 63,
   "metadata": {},
   "outputs": [
    {
     "name": "stdout",
     "output_type": "stream",
     "text": [
      "k=9 Test Accuracy: 0.823\n"
     ]
    }
   ],
   "source": [
    "knn = KNeighborsClassifier(n_neighbors=13)\n",
    "knn.fit(X_train_scaled, y_train)\n",
    "print('k=9 Test Accuracy: %.3f' % knn.score(X_test_scaled, y_test))"
   ]
  },
  {
   "cell_type": "markdown",
   "metadata": {},
   "source": [
    "## Hyperparameter Tuning for Random Forest Classifier"
   ]
  },
  {
   "cell_type": "code",
   "execution_count": 64,
   "metadata": {},
   "outputs": [
    {
     "name": "stdout",
     "output_type": "stream",
     "text": [
      "Decision Tree Classifier Score: 0.8517840805123513\n"
     ]
    }
   ],
   "source": [
    "#Decision Tree Classifier\n",
    "\n",
    "from sklearn import tree\n",
    "clf = tree.DecisionTreeClassifier()\n",
    "clf = clf.fit(X_train, y_train)\n",
    "clf.score(X_test, y_test)\n",
    "\n",
    "print(f\"Decision Tree Classifier Score: {clf.score(X_test, y_test)}\")"
   ]
  },
  {
   "cell_type": "code",
   "execution_count": 65,
   "metadata": {},
   "outputs": [
    {
     "name": "stdout",
     "output_type": "stream",
     "text": [
      "Fitting 3 folds for each of 12 candidates, totalling 36 fits\n",
      "[CV] n_estimators=200 ................................................\n"
     ]
    },
    {
     "name": "stderr",
     "output_type": "stream",
     "text": [
      "/Users/tinahuang/.local/lib/python3.7/site-packages/sklearn/model_selection/_split.py:1978: FutureWarning: The default value of cv will change from 3 to 5 in version 0.22. Specify it explicitly to silence this warning.\n",
      "  warnings.warn(CV_WARNING, FutureWarning)\n",
      "[Parallel(n_jobs=1)]: Using backend SequentialBackend with 1 concurrent workers.\n"
     ]
    },
    {
     "name": "stdout",
     "output_type": "stream",
     "text": [
      "[CV] .................... n_estimators=200, score=0.895, total=   2.5s\n",
      "[CV] n_estimators=200 ................................................\n"
     ]
    },
    {
     "name": "stderr",
     "output_type": "stream",
     "text": [
      "[Parallel(n_jobs=1)]: Done   1 out of   1 | elapsed:    2.5s remaining:    0.0s\n"
     ]
    },
    {
     "name": "stdout",
     "output_type": "stream",
     "text": [
      "[CV] .................... n_estimators=200, score=0.894, total=   2.4s\n",
      "[CV] n_estimators=200 ................................................\n"
     ]
    },
    {
     "name": "stderr",
     "output_type": "stream",
     "text": [
      "[Parallel(n_jobs=1)]: Done   2 out of   2 | elapsed:    4.9s remaining:    0.0s\n"
     ]
    },
    {
     "name": "stdout",
     "output_type": "stream",
     "text": [
      "[CV] .................... n_estimators=200, score=0.894, total=   2.5s\n",
      "[CV] n_estimators=400 ................................................\n",
      "[CV] .................... n_estimators=400, score=0.895, total=   4.9s\n",
      "[CV] n_estimators=400 ................................................\n",
      "[CV] .................... n_estimators=400, score=0.896, total=   4.9s\n",
      "[CV] n_estimators=400 ................................................\n",
      "[CV] .................... n_estimators=400, score=0.898, total=   5.2s\n",
      "[CV] n_estimators=600 ................................................\n",
      "[CV] .................... n_estimators=600, score=0.895, total=   7.6s\n",
      "[CV] n_estimators=600 ................................................\n",
      "[CV] .................... n_estimators=600, score=0.893, total=   8.1s\n",
      "[CV] n_estimators=600 ................................................\n",
      "[CV] .................... n_estimators=600, score=0.896, total=   7.9s\n",
      "[CV] n_estimators=800 ................................................\n",
      "[CV] .................... n_estimators=800, score=0.894, total=   9.3s\n",
      "[CV] n_estimators=800 ................................................\n",
      "[CV] .................... n_estimators=800, score=0.897, total=   9.9s\n",
      "[CV] n_estimators=800 ................................................\n",
      "[CV] .................... n_estimators=800, score=0.897, total=  10.3s\n",
      "[CV] n_estimators=1000 ...............................................\n",
      "[CV] ................... n_estimators=1000, score=0.896, total=  11.8s\n",
      "[CV] n_estimators=1000 ...............................................\n",
      "[CV] ................... n_estimators=1000, score=0.896, total=  12.2s\n",
      "[CV] n_estimators=1000 ...............................................\n",
      "[CV] ................... n_estimators=1000, score=0.894, total=  12.7s\n",
      "[CV] n_estimators=1200 ...............................................\n",
      "[CV] ................... n_estimators=1200, score=0.894, total=  14.7s\n",
      "[CV] n_estimators=1200 ...............................................\n",
      "[CV] ................... n_estimators=1200, score=0.896, total=  14.6s\n",
      "[CV] n_estimators=1200 ...............................................\n",
      "[CV] ................... n_estimators=1200, score=0.897, total=  15.2s\n",
      "[CV] n_estimators=1400 ...............................................\n",
      "[CV] ................... n_estimators=1400, score=0.893, total=  18.1s\n",
      "[CV] n_estimators=1400 ...............................................\n",
      "[CV] ................... n_estimators=1400, score=0.894, total=  17.6s\n",
      "[CV] n_estimators=1400 ...............................................\n",
      "[CV] ................... n_estimators=1400, score=0.895, total=  17.0s\n",
      "[CV] n_estimators=1600 ...............................................\n",
      "[CV] ................... n_estimators=1600, score=0.894, total=  19.0s\n",
      "[CV] n_estimators=1600 ...............................................\n",
      "[CV] ................... n_estimators=1600, score=0.892, total=  20.6s\n",
      "[CV] n_estimators=1600 ...............................................\n",
      "[CV] ................... n_estimators=1600, score=0.896, total=  21.6s\n",
      "[CV] n_estimators=1800 ...............................................\n",
      "[CV] ................... n_estimators=1800, score=0.892, total=  23.5s\n",
      "[CV] n_estimators=1800 ...............................................\n",
      "[CV] ................... n_estimators=1800, score=0.895, total=  22.0s\n",
      "[CV] n_estimators=1800 ...............................................\n",
      "[CV] ................... n_estimators=1800, score=0.896, total=  21.7s\n",
      "[CV] n_estimators=2000 ...............................................\n",
      "[CV] ................... n_estimators=2000, score=0.895, total=  27.9s\n",
      "[CV] n_estimators=2000 ...............................................\n",
      "[CV] ................... n_estimators=2000, score=0.892, total=  29.3s\n",
      "[CV] n_estimators=2000 ...............................................\n",
      "[CV] ................... n_estimators=2000, score=0.896, total=  25.4s\n",
      "[CV] max_features=auto ...............................................\n",
      "[CV] ................... max_features=auto, score=0.882, total=   0.1s\n",
      "[CV] max_features=auto ...............................................\n"
     ]
    },
    {
     "name": "stderr",
     "output_type": "stream",
     "text": [
      "/Users/tinahuang/.local/lib/python3.7/site-packages/sklearn/ensemble/forest.py:245: FutureWarning: The default value of n_estimators will change from 10 in version 0.20 to 100 in 0.22.\n",
      "  \"10 in version 0.20 to 100 in 0.22.\", FutureWarning)\n",
      "/Users/tinahuang/.local/lib/python3.7/site-packages/sklearn/ensemble/forest.py:245: FutureWarning: The default value of n_estimators will change from 10 in version 0.20 to 100 in 0.22.\n",
      "  \"10 in version 0.20 to 100 in 0.22.\", FutureWarning)\n"
     ]
    },
    {
     "name": "stdout",
     "output_type": "stream",
     "text": [
      "[CV] ................... max_features=auto, score=0.888, total=   0.1s\n",
      "[CV] max_features=auto ...............................................\n",
      "[CV] ................... max_features=auto, score=0.875, total=   0.1s\n",
      "[CV] max_features=sqrt ...............................................\n"
     ]
    },
    {
     "name": "stderr",
     "output_type": "stream",
     "text": [
      "/Users/tinahuang/.local/lib/python3.7/site-packages/sklearn/ensemble/forest.py:245: FutureWarning: The default value of n_estimators will change from 10 in version 0.20 to 100 in 0.22.\n",
      "  \"10 in version 0.20 to 100 in 0.22.\", FutureWarning)\n",
      "/Users/tinahuang/.local/lib/python3.7/site-packages/sklearn/ensemble/forest.py:245: FutureWarning: The default value of n_estimators will change from 10 in version 0.20 to 100 in 0.22.\n",
      "  \"10 in version 0.20 to 100 in 0.22.\", FutureWarning)\n"
     ]
    },
    {
     "name": "stdout",
     "output_type": "stream",
     "text": [
      "[CV] ................... max_features=sqrt, score=0.880, total=   0.1s\n",
      "[CV] max_features=sqrt ...............................................\n",
      "[CV] ................... max_features=sqrt, score=0.875, total=   0.1s\n",
      "[CV] max_features=sqrt ...............................................\n"
     ]
    },
    {
     "name": "stderr",
     "output_type": "stream",
     "text": [
      "/Users/tinahuang/.local/lib/python3.7/site-packages/sklearn/ensemble/forest.py:245: FutureWarning: The default value of n_estimators will change from 10 in version 0.20 to 100 in 0.22.\n",
      "  \"10 in version 0.20 to 100 in 0.22.\", FutureWarning)\n",
      "/Users/tinahuang/.local/lib/python3.7/site-packages/sklearn/ensemble/forest.py:245: FutureWarning: The default value of n_estimators will change from 10 in version 0.20 to 100 in 0.22.\n",
      "  \"10 in version 0.20 to 100 in 0.22.\", FutureWarning)\n"
     ]
    },
    {
     "name": "stdout",
     "output_type": "stream",
     "text": [
      "[CV] ................... max_features=sqrt, score=0.885, total=   0.1s\n"
     ]
    },
    {
     "name": "stderr",
     "output_type": "stream",
     "text": [
      "[Parallel(n_jobs=1)]: Done  36 out of  36 | elapsed:  7.0min finished\n"
     ]
    },
    {
     "data": {
      "text/plain": [
       "GridSearchCV(cv='warn', error_score='raise-deprecating',\n",
       "             estimator=RandomForestClassifier(bootstrap=True, class_weight=None,\n",
       "                                              criterion='gini', max_depth=None,\n",
       "                                              max_features='auto',\n",
       "                                              max_leaf_nodes=None,\n",
       "                                              min_impurity_decrease=0.0,\n",
       "                                              min_impurity_split=None,\n",
       "                                              min_samples_leaf=1,\n",
       "                                              min_samples_split=2,\n",
       "                                              min_weight_fraction_leaf=0.0,\n",
       "                                              n_estimators='warn', n_jobs=None,\n",
       "                                              oob_score=False,\n",
       "                                              random_state=None, verbose=0,\n",
       "                                              warm_start=False),\n",
       "             iid='warn', n_jobs=None,\n",
       "             param_grid=[{'n_estimators': [200, 400, 600, 800, 1000, 1200, 1400,\n",
       "                                           1600, 1800, 2000]},\n",
       "                         {'max_features': ['auto', 'sqrt']}],\n",
       "             pre_dispatch='2*n_jobs', refit=True, return_train_score=False,\n",
       "             scoring=None, verbose=3)"
      ]
     },
     "execution_count": 65,
     "metadata": {},
     "output_type": "execute_result"
    }
   ],
   "source": [
    "#Random Forest Classifier with tuning\n",
    "\n",
    "from sklearn.ensemble import RandomForestClassifier\n",
    "from sklearn.model_selection import GridSearchCV\n",
    "import numpy as np\n",
    "\n",
    "rfc = RandomForestClassifier()\n",
    "param_grid = [\n",
    "    {'n_estimators':[int(x) for x in np.linspace(start = 200, stop = 2000, num = 10)]},\n",
    "    {'max_features':['auto','sqrt']}\n",
    "]\n",
    "\n",
    "grid = GridSearchCV(estimator =rfc, param_grid=param_grid, verbose =3)\n",
    "grid.fit(X_train_scaled, y_train)"
   ]
  },
  {
   "cell_type": "code",
   "execution_count": 66,
   "metadata": {},
   "outputs": [
    {
     "name": "stdout",
     "output_type": "stream",
     "text": [
      "{'n_estimators': 400}\n",
      "0.8961573650503202\n"
     ]
    }
   ],
   "source": [
    "print(grid.best_params_)\n",
    "print(grid.best_score_)"
   ]
  },
  {
   "cell_type": "code",
   "execution_count": 67,
   "metadata": {},
   "outputs": [
    {
     "name": "stdout",
     "output_type": "stream",
     "text": [
      "Random Forest Classifier Score: 0.8906678865507777\n"
     ]
    }
   ],
   "source": [
    "print(f\"Random Forest Classifier Score: {grid.score(X_test_scaled, y_test)}\")"
   ]
  }
 ],
 "metadata": {
  "kernel_info": {
   "name": "dev"
  },
  "kernelspec": {
   "display_name": "Python 3",
   "language": "python",
   "name": "python3"
  },
  "language_info": {
   "codemirror_mode": {
    "name": "ipython",
    "version": 3
   },
   "file_extension": ".py",
   "mimetype": "text/x-python",
   "name": "python",
   "nbconvert_exporter": "python",
   "pygments_lexer": "ipython3",
   "version": "3.7.1"
  },
  "nteract": {
   "version": "0.12.3"
  }
 },
 "nbformat": 4,
 "nbformat_minor": 2
}
